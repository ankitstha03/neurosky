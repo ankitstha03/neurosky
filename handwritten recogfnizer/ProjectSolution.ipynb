{
 "cells": [
  {
   "cell_type": "markdown",
   "metadata": {},
   "source": [
    "Handling imports."
   ]
  },
  {
   "cell_type": "code",
   "execution_count": 1,
   "metadata": {},
   "outputs": [
    {
     "name": "stderr",
     "output_type": "stream",
     "text": [
      "Using TensorFlow backend.\n"
     ]
    }
   ],
   "source": [
    "import scipy.io as spio\n",
    "import numpy as np\n",
    "import matplotlib.pyplot as plt\n",
    "from keras.utils import np_utils\n",
    "from keras.models import Sequential\n",
    "from keras import layers\n",
    "from keras.optimizers import Adagrad, Adam"
   ]
  },
  {
   "cell_type": "code",
   "execution_count": 23,
   "metadata": {},
   "outputs": [],
   "source": [
    "train_data = np.empty((1990,2000,13))\n",
    "train_label = np.empty((1990))"
   ]
  },
  {
   "cell_type": "code",
   "execution_count": 24,
   "metadata": {},
   "outputs": [],
   "source": [
    "for i in range(1,11):\n",
    "    mat = spio.loadmat('S0{}A.mat'.format(i))\n",
    "    data = mat['data']\n",
    "    datapoints_x_channels = data[0][0][0]\n",
    "    # normalizing the data\n",
    "    mean = datapoints_x_channels.mean()\n",
    "    datapoints_x_channels -= mean\n",
    "    std = datapoints_x_channels.std()\n",
    "    datapoints_x_channels /= std\n",
    "    true_label = (data[0][0][1])[0:199]\n",
    "    array_trial = (data[0][0][2]).reshape(200)[0:199]\n",
    "    for j , rows in enumerate(array_trial):\n",
    "        indices = range(array_trial[j]+2500, array_trial[j]+4500)\n",
    "        train_data[j+ 199*(i-1)] = datapoints_x_channels[indices]\n",
    "        train_label[j+199*(i-1)] = true_label[j]"
   ]
  },
  {
   "cell_type": "code",
   "execution_count": 25,
   "metadata": {},
   "outputs": [],
   "source": [
    "train_label = np_utils.to_categorical(train_label)"
   ]
  },
  {
   "cell_type": "code",
   "execution_count": 26,
   "metadata": {
    "scrolled": true
   },
   "outputs": [
    {
     "name": "stdout",
     "output_type": "stream",
     "text": [
      "_________________________________________________________________\n",
      "Layer (type)                 Output Shape              Param #   \n",
      "=================================================================\n",
      "gru_1 (GRU)                  (None, 2000, 24)          2736      \n",
      "_________________________________________________________________\n",
      "simple_rnn_1 (SimpleRNN)     (None, 2000, 32)          1824      \n",
      "_________________________________________________________________\n",
      "gru_2 (GRU)                  (None, 2000, 32)          6240      \n",
      "_________________________________________________________________\n",
      "simple_rnn_2 (SimpleRNN)     (None, 16)                784       \n",
      "_________________________________________________________________\n",
      "dense_1 (Dense)              (None, 3)                 51        \n",
      "=================================================================\n",
      "Total params: 11,635\n",
      "Trainable params: 11,635\n",
      "Non-trainable params: 0\n",
      "_________________________________________________________________\n"
     ]
    }
   ],
   "source": [
    "model = Sequential()\n",
    "model.add(layers.GRU(24,\n",
    "                     activation='relu',\n",
    "                     input_shape=train_data.shape[1:],\n",
    "                     return_sequences=True))\n",
    "model.add(layers.SimpleRNN(32, \n",
    "                       activation='relu',\n",
    "                      return_sequences=True))\n",
    "\n",
    "model.add(layers.GRU(32,\n",
    "                      activation='relu',\n",
    "                      return_sequences=True))\n",
    "model.add(layers.SimpleRNN(16, \n",
    "                           activation='relu',\n",
    "                          ))\n",
    "model.add(layers.Dense(3, activation='sigmoid'))\n",
    "model.compile(optimizer=Adam(), loss='binary_crossentropy', metrics=['acc'])\n",
    "model.summary()"
   ]
  },
  {
   "cell_type": "code",
   "execution_count": 28,
   "metadata": {
    "scrolled": true
   },
   "outputs": [
    {
     "name": "stdout",
     "output_type": "stream",
     "text": [
      "Train on 1492 samples, validate on 498 samples\n",
      "Epoch 1/50\n",
      "1492/1492 [==============================] - 33s 22ms/step - loss: 0.5287 - acc: 0.6667 - val_loss: 0.5297 - val_acc: 0.6673\n",
      "Epoch 2/50\n",
      "1492/1492 [==============================] - 29s 19ms/step - loss: 0.5014 - acc: 0.6667 - val_loss: 0.5226 - val_acc: 0.6667\n",
      "Epoch 3/50\n",
      "1492/1492 [==============================] - 30s 20ms/step - loss: 0.4878 - acc: 0.6676 - val_loss: 0.4832 - val_acc: 0.6700\n",
      "Epoch 4/50\n",
      "1492/1492 [==============================] - 33s 22ms/step - loss: 0.4765 - acc: 0.6687 - val_loss: 0.4742 - val_acc: 0.6613\n",
      "Epoch 5/50\n",
      "1492/1492 [==============================] - 34s 23ms/step - loss: 0.4691 - acc: 0.6716 - val_loss: 0.4725 - val_acc: 0.6593\n",
      "Epoch 6/50\n",
      "1492/1492 [==============================] - 30s 20ms/step - loss: 0.4690 - acc: 0.6714 - val_loss: 0.4686 - val_acc: 0.6560\n",
      "Epoch 7/50\n",
      "1492/1492 [==============================] - 32s 22ms/step - loss: 0.4640 - acc: 0.6747 - val_loss: 0.4664 - val_acc: 0.6613\n",
      "Epoch 8/50\n",
      "1492/1492 [==============================] - 32s 22ms/step - loss: 0.4632 - acc: 0.6725 - val_loss: 0.4686 - val_acc: 0.6633\n",
      "Epoch 9/50\n",
      "1492/1492 [==============================] - 34s 23ms/step - loss: 0.4632 - acc: 0.6711 - val_loss: 0.4752 - val_acc: 0.6566\n",
      "Epoch 10/50\n",
      "1492/1492 [==============================] - 28s 19ms/step - loss: 0.4620 - acc: 0.6810 - val_loss: 0.4666 - val_acc: 0.6760\n",
      "Epoch 11/50\n",
      "1492/1492 [==============================] - 27s 18ms/step - loss: 0.4631 - acc: 0.6765 - val_loss: 0.4652 - val_acc: 0.6466\n",
      "Epoch 12/50\n",
      "1492/1492 [==============================] - 29s 19ms/step - loss: 0.4620 - acc: 0.6810 - val_loss: 0.4659 - val_acc: 0.6412\n",
      "Epoch 13/50\n",
      "1492/1492 [==============================] - 32s 21ms/step - loss: 0.4611 - acc: 0.6863 - val_loss: 0.4663 - val_acc: 0.6439\n",
      "Epoch 14/50\n",
      "1492/1492 [==============================] - 32s 21ms/step - loss: 0.4598 - acc: 0.6859 - val_loss: 0.4662 - val_acc: 0.6506\n",
      "Epoch 15/50\n",
      "1492/1492 [==============================] - 34s 23ms/step - loss: 0.4603 - acc: 0.6836 - val_loss: 0.4650 - val_acc: 0.6647\n",
      "Epoch 16/50\n",
      "1492/1492 [==============================] - 31s 21ms/step - loss: 0.4601 - acc: 0.6812 - val_loss: 0.4661 - val_acc: 0.6479\n",
      "Epoch 17/50\n",
      "1492/1492 [==============================] - 32s 21ms/step - loss: 0.4604 - acc: 0.6785 - val_loss: 0.4661 - val_acc: 0.6513\n",
      "Epoch 18/50\n",
      "1492/1492 [==============================] - 28s 19ms/step - loss: 0.4595 - acc: 0.6812 - val_loss: 0.4636 - val_acc: 0.6734\n",
      "Epoch 19/50\n",
      "1492/1492 [==============================] - 29s 20ms/step - loss: 0.4565 - acc: 0.6935 - val_loss: 0.4673 - val_acc: 0.6613\n",
      "Epoch 20/50\n",
      "1492/1492 [==============================] - 29s 20ms/step - loss: 0.4575 - acc: 0.6995 - val_loss: 0.4669 - val_acc: 0.6687\n",
      "Epoch 21/50\n",
      "1492/1492 [==============================] - 31s 21ms/step - loss: 0.4593 - acc: 0.6821 - val_loss: 0.4673 - val_acc: 0.6660\n",
      "Epoch 22/50\n",
      "1492/1492 [==============================] - 30s 20ms/step - loss: 0.4572 - acc: 0.6991 - val_loss: 0.4655 - val_acc: 0.6673\n",
      "Epoch 23/50\n",
      "1492/1492 [==============================] - 28s 19ms/step - loss: 0.4566 - acc: 0.6899 - val_loss: 0.4651 - val_acc: 0.6620\n",
      "Epoch 24/50\n",
      "1492/1492 [==============================] - 28s 19ms/step - loss: 0.4550 - acc: 0.6977 - val_loss: 0.4640 - val_acc: 0.6600\n",
      "Epoch 25/50\n",
      "1492/1492 [==============================] - 31s 21ms/step - loss: 0.4555 - acc: 0.6971 - val_loss: 0.4660 - val_acc: 0.6727\n",
      "Epoch 26/50\n",
      "1492/1492 [==============================] - 34s 23ms/step - loss: 0.4550 - acc: 0.6995 - val_loss: 0.4650 - val_acc: 0.6653\n",
      "Epoch 27/50\n",
      "1492/1492 [==============================] - 27s 18ms/step - loss: 0.4558 - acc: 0.6946 - val_loss: 0.4681 - val_acc: 0.6707\n",
      "Epoch 28/50\n",
      "1492/1492 [==============================] - 32s 21ms/step - loss: 0.4549 - acc: 0.6948 - val_loss: 0.4682 - val_acc: 0.6627\n",
      "Epoch 29/50\n",
      "1492/1492 [==============================] - 27s 18ms/step - loss: 0.4538 - acc: 0.7089 - val_loss: 0.4651 - val_acc: 0.6673\n",
      "Epoch 30/50\n",
      "1492/1492 [==============================] - 29s 20ms/step - loss: 0.4519 - acc: 0.7080 - val_loss: 0.4671 - val_acc: 0.6593\n",
      "Epoch 31/50\n",
      "1492/1492 [==============================] - 33s 22ms/step - loss: 0.4513 - acc: 0.7067 - val_loss: 0.4681 - val_acc: 0.6673\n",
      "Epoch 32/50\n",
      "1492/1492 [==============================] - 28s 18ms/step - loss: 0.4511 - acc: 0.7033 - val_loss: 0.4693 - val_acc: 0.6633\n",
      "Epoch 33/50\n",
      "1492/1492 [==============================] - 34s 23ms/step - loss: 0.4488 - acc: 0.7080 - val_loss: 0.4683 - val_acc: 0.6714\n",
      "Epoch 34/50\n",
      "1492/1492 [==============================] - 36s 24ms/step - loss: 0.4497 - acc: 0.6997 - val_loss: 0.4758 - val_acc: 0.6660\n",
      "Epoch 35/50\n",
      "1492/1492 [==============================] - 33s 22ms/step - loss: 0.4571 - acc: 0.6964 - val_loss: 0.4724 - val_acc: 0.6714\n",
      "Epoch 36/50\n",
      "1492/1492 [==============================] - 31s 21ms/step - loss: 0.4534 - acc: 0.7158 - val_loss: 0.4748 - val_acc: 0.6533\n",
      "Epoch 37/50\n",
      "1492/1492 [==============================] - 31s 21ms/step - loss: 0.4527 - acc: 0.6957 - val_loss: 0.4755 - val_acc: 0.6600\n",
      "Epoch 38/50\n",
      "1492/1492 [==============================] - 32s 21ms/step - loss: 0.4516 - acc: 0.7087 - val_loss: 0.4725 - val_acc: 0.6553\n",
      "Epoch 39/50\n",
      "1492/1492 [==============================] - 34s 23ms/step - loss: 0.4481 - acc: 0.7078 - val_loss: 0.4699 - val_acc: 0.6667\n",
      "Epoch 40/50\n",
      "1492/1492 [==============================] - 33s 22ms/step - loss: 0.4482 - acc: 0.7127 - val_loss: 0.4756 - val_acc: 0.6593\n",
      "Epoch 41/50\n",
      "1492/1492 [==============================] - 34s 23ms/step - loss: 0.4463 - acc: 0.7167 - val_loss: 0.4739 - val_acc: 0.6600\n",
      "Epoch 42/50\n",
      "1492/1492 [==============================] - 32s 21ms/step - loss: 0.4455 - acc: 0.7172 - val_loss: 0.4771 - val_acc: 0.6546\n",
      "Epoch 43/50\n",
      "1492/1492 [==============================] - 32s 22ms/step - loss: 0.4457 - acc: 0.7158 - val_loss: 0.4786 - val_acc: 0.6573\n",
      "Epoch 44/50\n",
      "1492/1492 [==============================] - 32s 22ms/step - loss: 0.4448 - acc: 0.7205 - val_loss: 0.4790 - val_acc: 0.6560\n",
      "Epoch 45/50\n",
      "1492/1492 [==============================] - 35s 24ms/step - loss: 0.4415 - acc: 0.7259 - val_loss: 0.4839 - val_acc: 0.6693\n",
      "Epoch 46/50\n",
      "1492/1492 [==============================] - 32s 22ms/step - loss: 0.4422 - acc: 0.7214 - val_loss: 0.4809 - val_acc: 0.6593\n",
      "Epoch 47/50\n",
      "1492/1492 [==============================] - 29s 20ms/step - loss: 0.4399 - acc: 0.7332 - val_loss: 0.4822 - val_acc: 0.6680\n",
      "Epoch 48/50\n",
      "1492/1492 [==============================] - 31s 21ms/step - loss: 0.4411 - acc: 0.7341 - val_loss: 0.4802 - val_acc: 0.6667\n",
      "Epoch 49/50\n",
      "1492/1492 [==============================] - 30s 20ms/step - loss: 0.4395 - acc: 0.7353 - val_loss: 0.4869 - val_acc: 0.6613\n",
      "Epoch 50/50\n",
      "1492/1492 [==============================] - 34s 23ms/step - loss: 0.4385 - acc: 0.7344 - val_loss: 0.4928 - val_acc: 0.6620\n"
     ]
    }
   ],
   "source": [
    "history = model.fit(train_data,train_label,epochs=50,\n",
    "                   batch_size =256,\n",
    "                    validation_split=0.25)"
   ]
  },
  {
   "cell_type": "code",
   "execution_count": 29,
   "metadata": {},
   "outputs": [
    {
     "data": {
      "image/png": "[encoded data removed]",
      "text/plain": [
       "<matplotlib.figure.Figure at 0x7f24597fe898>"
      ]
     },
     "metadata": {},
     "output_type": "display_data"
    }
   ],
   "source": [
    "loss = history.history['loss']\n",
    "val_loss = history.history['val_loss']\n",
    "\n",
    "epochs = range(len(loss))\n",
    "\n",
    "plt.figure()\n",
    "\n",
    "plt.plot(epochs, loss, 'bo', label='Training loss')\n",
    "plt.plot(epochs, val_loss, 'b', label='Validation loss')\n",
    "plt.title('Training and validation loss')\n",
    "plt.legend()\n",
    "\n",
    "plt.show()"
   ]
  },
  {
   "cell_type": "code",
   "execution_count": 30,
   "metadata": {},
   "outputs": [
    {
     "data": {
      "image/png": "[encoded data removed]",
      "text/plain": [
       "<matplotlib.figure.Figure at 0x7f24597bc208>"
      ]
     },
     "metadata": {},
     "output_type": "display_data"
    }
   ],
   "source": [
    "acc = history.history['acc']\n",
    "val_acc = history.history['val_acc']\n",
    "\n",
    "epochs = range(len(acc))\n",
    "\n",
    "plt.figure()\n",
    "\n",
    "plt.plot(epochs, acc, 'bo', label='Training accuracy')\n",
    "plt.plot(epochs, val_acc, 'b', label='Validation accuracy')\n",
    "plt.title('Training and validation accuracy')\n",
    "plt.legend()\n",
    "\n",
    "plt.show()\n"
   ]
  },
  {
   "cell_type": "code",
   "execution_count": 32,
   "metadata": {},
   "outputs": [
    {
     "name": "stdout",
     "output_type": "stream",
     "text": [
      "199/199 [==============================] - 8s 38ms/step\n"
     ]
    },
    {
     "data": {
      "text/plain": [
       "[1.9777069232571665, 0.6733668539392289]"
      ]
     },
     "execution_count": 32,
     "metadata": {},
     "output_type": "execute_result"
    }
   ],
   "source": [
    "mat2 = spio.loadmat('S01B.mat')\n",
    "data2 = mat2['data']\n",
    "datapoints_x_channels2 = data2[0][0][0]\n",
    "test_label = (data2[0][0][1])[0:199]\n",
    "test_label = np_utils.to_categorical(test_label)\n",
    "array_trial2 = (data2[0][0][2]).reshape(200)[0:199]\n",
    "\n",
    "test_data = np.zeros((199, 2000, 13))\n",
    "for i, rows in enumerate(array_trial):\n",
    "    indices = range(array_trial[i]+1000, array_trial[i]+3000)\n",
    "    test_data[i] = datapoints_x_channels2[indices]\n",
    "\n",
    "model.evaluate(test_data, test_label)"
   ]
  },
  {
   "cell_type": "markdown",
   "metadata": {},
   "source": [
    "#### Correct Classification"
   ]
  },
  {
   "cell_type": "code",
   "execution_count": 41,
   "metadata": {},
   "outputs": [
    {
     "data": {
      "text/plain": [
       "array([ 0.,  0.,  1.])"
      ]
     },
     "execution_count": 41,
     "metadata": {},
     "output_type": "execute_result"
    }
   ],
   "source": [
    "test_label[9]"
   ]
  },
  {
   "cell_type": "code",
   "execution_count": 42,
   "metadata": {},
   "outputs": [
    {
     "data": {
      "text/plain": [
       "array([  7.75989190e-13,   9.53254232e-04,   9.99593318e-01], dtype=float32)"
      ]
     },
     "execution_count": 42,
     "metadata": {},
     "output_type": "execute_result"
    }
   ],
   "source": [
    "model.predict(test_data)[9]"
   ]
  },
  {
   "cell_type": "markdown",
   "metadata": {},
   "source": [
    "#### Incorrect Classification"
   ]
  },
  {
   "cell_type": "code",
   "execution_count": 44,
   "metadata": {},
   "outputs": [
    {
     "data": {
      "text/plain": [
       "array([ 0.,  1.,  0.])"
      ]
     },
     "execution_count": 44,
     "metadata": {},
     "output_type": "execute_result"
    }
   ],
   "source": [
    "test_label[1]"
   ]
  },
  {
   "cell_type": "code",
   "execution_count": 45,
   "metadata": {},
   "outputs": [
    {
     "data": {
      "text/plain": [
       "array([  6.59512118e-14,   7.70961890e-08,   9.99996781e-01], dtype=float32)"
      ]
     },
     "execution_count": 45,
     "metadata": {},
     "output_type": "execute_result"
    }
   ],
   "source": [
    "model.predict(test_data)[1]"
   ]
  },
  {
   "cell_type": "code",
   "execution_count": null,
   "metadata": {},
   "outputs": [],
   "source": [
    "import scipy.io as spio\n",
    "mat = spio.loadmat('S01A.mat')"
   ]
  },
  {
   "cell_type": "code",
   "execution_count": null,
   "metadata": {},
   "outputs": [],
   "source": []
  }
 ],
 "metadata": {
  "celltoolbar": "Raw Cell Format",
  "kernelspec": {
   "display_name": "Python 3",
   "language": "python",
   "name": "python3"
  },
  "language_info": {
   "codemirror_mode": {
    "name": "ipython",
    "version": 3
   },
   "file_extension": ".py",
   "mimetype": "text/x-python",
   "name": "python",
   "nbconvert_exporter": "python",
   "pygments_lexer": "ipython3",
   "version": "3.5.0"
  }
 },
 "nbformat": 4,
 "nbformat_minor": 2
}
